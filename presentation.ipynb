{
 "cells": [
  {
   "cell_type": "markdown",
   "metadata": {},
   "source": [
    "# SPIN (Pre-)Workshop: Python & Obspy Crash Course\n",
    "\n",
    "**Part A (Python tips & tricks)**: The questionnaire has shown that all of you have at least some experience with Python. Therefore, I will not go over the **very** basics and will instead present a few helpful concepts, tips and tricks that you may not yet be aware of.\n",
    "\n",
    "**Part B (Obspy)**: Some of you have experience with obspy, while others do not. I will present the basic ideas and data structures of obspy. Then we will download some data, and you'll have time to experiment with this yourself.\n",
    "\n",
    "**What this course will not cover**: The basics of Python (how to define numbers, functions, etc. ). More advanced topics, such optimization of code for performance or parallelisation; code architecture; topics related to logistics, e.g., accessing and running code on a server; managing python environments\n",
    "\n",
    "## Questionnaire results (n=12)\n",
    "\n",
    "question | mean | std | min\n",
    "|---|---|--|---|\n",
    "|programming|6.2|1.6|4|\n",
    "|python|6.2|1.9|4|\n",
    "|numpy/scipy|6.5|2.2|3|\n",
    "|obspy|5|3.2|1|\n",
    "\n",
    "\n",
    "Some useful resources:\n",
    "\n",
    "- [seismo-live.org](http://seismo-live.org/): Collection of jupyter notebooks on various seismological topics.\n",
    "- [obspy documentation](https://docs.obspy.org): Obspy's documentation, including tutorials.\n",
    "- [cartopy documentation](https://scitools.org.uk/cartopy/docs/latest/): Cartopy's documentation, including a gallery (very useful).\n",
    "- MIT's [\"Missing Semester\"](https://www.youtube.com/c/MissingSemester): Introductory lectures on the logistics surrounding programming, such as terminals, code editors, git, debugging and profiling, and others.\n"
   ]
  },
  {
   "cell_type": "markdown",
   "metadata": {},
   "source": [
    "# Part A: Python tips & tricks"
   ]
  },
  {
   "cell_type": "markdown",
   "metadata": {},
   "source": [
    "## Mutability"
   ]
  },
  {
   "cell_type": "code",
   "execution_count": null,
   "metadata": {},
   "outputs": [],
   "source": [
    "# TODO: Add the bad guy from 'Nightmare on Elm street' to the list. Then replace him with Hannibal Lecter.\n",
    "bad_guys = [\"Michael Myers\", \"Jason Voorhees\"]"
   ]
  },
  {
   "cell_type": "code",
   "execution_count": null,
   "metadata": {},
   "outputs": [],
   "source": [
    "# TODO: do the same with a tuple\n",
    "bad_guys =  (\"Michael Myers\", \"Jason Voorhees\")"
   ]
  },
  {
   "cell_type": "markdown",
   "metadata": {},
   "source": [
    "## Copies of objects"
   ]
  },
  {
   "cell_type": "code",
   "execution_count": null,
   "metadata": {},
   "outputs": [],
   "source": [
    "# TODO: create a new list with the entries of bad_guys and alter it\n",
    "bad_guys = [\"Michael Myers\", \"Jason Voorhees\", \"Hannibal Lecter\"]"
   ]
  },
  {
   "cell_type": "markdown",
   "metadata": {},
   "source": [
    "## For loops for non-Pythonistas"
   ]
  },
  {
   "cell_type": "code",
   "execution_count": null,
   "metadata": {},
   "outputs": [],
   "source": [
    "# TODO: print each name in the list and its index in a new line.\n",
    "bad_guys = [\"Michael Myers\", \"Jason Voorhees\", \"Hannibal Lecter\"]"
   ]
  },
  {
   "cell_type": "markdown",
   "metadata": {},
   "source": [
    "## itertools and generators"
   ]
  },
  {
   "cell_type": "code",
   "execution_count": null,
   "metadata": {},
   "outputs": [],
   "source": [
    "# TODO: print all possible combination pairs of bad guys\n",
    "bad_guys = [\"Michael Myers\", \"Jason Voorhees\", \"Hannibal Lecter\"]"
   ]
  },
  {
   "cell_type": "code",
   "execution_count": null,
   "metadata": {},
   "outputs": [],
   "source": [
    "# TODO: print all possible combination pairs of bad guys, but only if a) Hannibal Lecter is one of them"
   ]
  },
  {
   "cell_type": "markdown",
   "metadata": {},
   "source": [
    "## tracking progress"
   ]
  },
  {
   "cell_type": "code",
   "execution_count": 2,
   "metadata": {},
   "outputs": [],
   "source": [
    "# TODO: loop over all bad guys, do something that takes long with each, and estimate the time it takes\n",
    "bad_guys = [\"Michael Myers\", \"Jason Voorhees\", \"Hannibal Lecter\"]"
   ]
  },
  {
   "cell_type": "markdown",
   "metadata": {},
   "source": [
    "## Comprehensions"
   ]
  },
  {
   "cell_type": "code",
   "execution_count": null,
   "metadata": {},
   "outputs": [],
   "source": [
    "# TODO: create a new list that contains only each first name.\n",
    "bad_guys = [\"Michael Myers\", \"Jason Voorhees\", \"Hannibal Lecter\"]"
   ]
  },
  {
   "cell_type": "markdown",
   "metadata": {},
   "source": [
    "## zip()"
   ]
  },
  {
   "cell_type": "code",
   "execution_count": null,
   "metadata": {},
   "outputs": [],
   "source": [
    "# TODO: print each bad guy and his birthyear together. then save them.\n",
    "bad_guys = [\"Michael Myers\", \"Jason Voorhees\", \"Hannibal Lecter\"]\n",
    "birthyears = [1957, 1946, 1933]"
   ]
  },
  {
   "cell_type": "markdown",
   "metadata": {},
   "source": [
    "## String formatting"
   ]
  },
  {
   "cell_type": "code",
   "execution_count": null,
   "metadata": {},
   "outputs": [],
   "source": [
    "# TODO: Print a statement like so for each bad guy:\n",
    "# \"Michael Myers was born in 1957\"\n",
    "bad_guys = [\"Michael Myers\", \"Jason Voorhees\", \"Hannibal Lecter\"]\n",
    "birthyears = [1957, 1946, 1933]"
   ]
  },
  {
   "cell_type": "markdown",
   "metadata": {},
   "source": [
    "## Unpacking"
   ]
  },
  {
   "cell_type": "code",
   "execution_count": null,
   "metadata": {},
   "outputs": [],
   "source": [
    "# TODO: assign the items of a list into individual variables.\n",
    "bad_guys = [\"Michael Myers\", \"Jason Voorhees\", \"Hannibal Lecter\"]"
   ]
  },
  {
   "cell_type": "markdown",
   "metadata": {},
   "source": [
    "## Vectorization"
   ]
  },
  {
   "cell_type": "code",
   "execution_count": null,
   "metadata": {},
   "outputs": [],
   "source": [
    "# TODO: extract the first and last birthyear\n",
    "birthyears = [1957, 1946, 1933]"
   ]
  },
  {
   "cell_type": "code",
   "execution_count": null,
   "metadata": {},
   "outputs": [],
   "source": [
    "# TODO: create a list of birthyear-and-height-lists, and make it an array\n",
    "heights = [2.01, 1.96, 1.73]"
   ]
  },
  {
   "cell_type": "code",
   "execution_count": null,
   "metadata": {},
   "outputs": [],
   "source": [
    "# TODO: compute the mean height of all bad guys"
   ]
  },
  {
   "cell_type": "markdown",
   "metadata": {},
   "source": [
    "## Distances on Earth"
   ]
  },
  {
   "cell_type": "code",
   "execution_count": null,
   "metadata": {},
   "outputs": [],
   "source": [
    "# TODO: compute the distances between their hometowns (film locations).\n",
    "bad_guys = [\"Michael Myers\", \"Jason Voorhees\", \"Hannibal Lecter\"]\n",
    "# [South Pasadena, CA], [Camp Crystal Lake, NY], [Florence, Italy]\n",
    "hometowns = [[-118.16, 34.12], [-74.94, 41.06], [11.26, 43.77]]"
   ]
  },
  {
   "cell_type": "code",
   "execution_count": null,
   "metadata": {},
   "outputs": [],
   "source": [
    "# TODO: compute the distances between their hometowns and print a string identifying which these belong to"
   ]
  },
  {
   "cell_type": "markdown",
   "metadata": {},
   "source": [
    "## Maps with cartopy"
   ]
  },
  {
   "cell_type": "code",
   "execution_count": null,
   "metadata": {},
   "outputs": [],
   "source": [
    "# TODO: plot an orthographic map with each location and label them.\n",
    "bad_guys = [\"Michael Myers\", \"Jason Voorhees\", \"Hannibal Lecter\"]\n",
    "# [South Pasadena, CA], [Camp Crystal Lake, NY], [Florence, Italy]\n",
    "hometowns = [[-118.16, 34.12], [-74.94, 41.06], [11.26, 43.77]]"
   ]
  },
  {
   "cell_type": "markdown",
   "metadata": {},
   "source": [
    "# Part B: Obspy"
   ]
  },
  {
   "cell_type": "markdown",
   "metadata": {},
   "source": [
    "## Obspy: The building blocks (time, waveforms, metadata, events)\n"
   ]
  },
  {
   "cell_type": "markdown",
   "metadata": {},
   "source": [
    "### Time: UTCDateTime"
   ]
  },
  {
   "cell_type": "code",
   "execution_count": null,
   "metadata": {},
   "outputs": [],
   "source": [
    "from obspy import UTCDateTime"
   ]
  },
  {
   "cell_type": "markdown",
   "metadata": {},
   "source": [
    "### Waveforms: Stream / Trace"
   ]
  },
  {
   "cell_type": "markdown",
   "metadata": {},
   "source": [
    "[documentation](https://docs.obspy.org/packages/autogen/obspy.core.stream.Stream.html)\n",
    "\n",
    "![](./images/Stream_Trace.svg)"
   ]
  },
  {
   "cell_type": "code",
   "execution_count": null,
   "metadata": {},
   "outputs": [],
   "source": [
    "# TODO: read stream, explore some functions"
   ]
  },
  {
   "cell_type": "markdown",
   "metadata": {},
   "source": [
    "### Metadata: Inventory"
   ]
  },
  {
   "cell_type": "markdown",
   "metadata": {},
   "source": [
    "[documentation](https://docs.obspy.org/packages/obspy.core.inventory.html)\n",
    "\n",
    "![](./images/Inventory.svg)"
   ]
  },
  {
   "cell_type": "code",
   "execution_count": null,
   "metadata": {},
   "outputs": [],
   "source": [
    "# TODO: read inventory, explore"
   ]
  },
  {
   "cell_type": "markdown",
   "metadata": {},
   "source": [
    "### Events: Catalog"
   ]
  },
  {
   "cell_type": "markdown",
   "metadata": {},
   "source": [
    "[documentation](https://docs.obspy.org/packages/autogen/obspy.core.event.Catalog.html)\n",
    "\n",
    "![](./images/Event.svg)"
   ]
  },
  {
   "cell_type": "code",
   "execution_count": null,
   "metadata": {},
   "outputs": [],
   "source": [
    "# TODO: read catalog, explore"
   ]
  },
  {
   "cell_type": "markdown",
   "metadata": {},
   "source": [
    "## Obspy: downloading data"
   ]
  },
  {
   "cell_type": "code",
   "execution_count": null,
   "metadata": {},
   "outputs": [],
   "source": [
    "# TODO: Download waveforms, metadata, and event information for the 2004 Sumatra Earthquake"
   ]
  },
  {
   "cell_type": "code",
   "execution_count": null,
   "metadata": {},
   "outputs": [],
   "source": [
    "# TODO: explore common errors when requesting data"
   ]
  },
  {
   "cell_type": "markdown",
   "metadata": {},
   "source": [
    "## Obspy: exercise\n",
    "\n",
    "For the this exercise you will download some data of the Tohoku-Oki (March 2011) earthquake, cut out a certain time window around the first arrival and remove the instrument response from the data."
   ]
  },
  {
   "cell_type": "markdown",
   "metadata": {},
   "source": [
    "### Step 1: Download the necessary data / metadata."
   ]
  },
  {
   "cell_type": "code",
   "execution_count": null,
   "metadata": {},
   "outputs": [],
   "source": [
    "# We need the following things:\n",
    "# - Event information about the Tohoku-Oki earthquake. Use the get_events() method of the client. A good provider of event data is the IRIS.\n",
    "# - Waveform information for a certain station. Choose your favorite one! If you have no preference, use II.BFO which is available for example from IRIS. Use the get_waveforms() method.\n",
    "# - Download the associated station/instrument information with the get_stations() method."
   ]
  },
  {
   "cell_type": "markdown",
   "metadata": {},
   "source": [
    "### Step 2: Determine the coordinates of the station"
   ]
  },
  {
   "cell_type": "code",
   "execution_count": null,
   "metadata": {},
   "outputs": [],
   "source": []
  },
  {
   "cell_type": "markdown",
   "metadata": {},
   "source": [
    "### Step 3: Determine the coordinates of the event"
   ]
  },
  {
   "cell_type": "code",
   "execution_count": null,
   "metadata": {},
   "outputs": [],
   "source": []
  },
  {
   "cell_type": "markdown",
   "metadata": {},
   "source": [
    "### Step 4: Calculate distance of event and station"
   ]
  },
  {
   "cell_type": "code",
   "execution_count": null,
   "metadata": {},
   "outputs": [],
   "source": []
  },
  {
   "cell_type": "markdown",
   "metadata": {},
   "source": [
    "### Step 5: Calculate Theoretical Arrivals"
   ]
  },
  {
   "cell_type": "code",
   "execution_count": null,
   "metadata": {},
   "outputs": [],
   "source": [
    "# check out obspy's taup documentation"
   ]
  },
  {
   "cell_type": "markdown",
   "metadata": {},
   "source": [
    "### Step 6: Calculate absolute time of the first arrivals at the station"
   ]
  },
  {
   "cell_type": "code",
   "execution_count": null,
   "metadata": {},
   "outputs": [],
   "source": []
  },
  {
   "cell_type": "markdown",
   "metadata": {},
   "source": [
    "### Step 7: Cut to 1 minute before and 5 minutes after the first arrival"
   ]
  },
  {
   "cell_type": "code",
   "execution_count": null,
   "metadata": {},
   "outputs": [],
   "source": []
  },
  {
   "cell_type": "markdown",
   "metadata": {},
   "source": [
    "### Step 8: Remove the instrument response"
   ]
  },
  {
   "cell_type": "code",
   "execution_count": null,
   "metadata": {},
   "outputs": [],
   "source": []
  },
  {
   "cell_type": "markdown",
   "metadata": {},
   "source": [
    "### Step 9: Plot the resulting waveform"
   ]
  },
  {
   "cell_type": "code",
   "execution_count": null,
   "metadata": {},
   "outputs": [],
   "source": []
  },
  {
   "cell_type": "markdown",
   "metadata": {},
   "source": [
    "### Step 10: Plot a map of the earthquake location, station location, and the great-circle path connecting them"
   ]
  },
  {
   "cell_type": "code",
   "execution_count": null,
   "metadata": {},
   "outputs": [],
   "source": []
  }
 ],
 "metadata": {
  "interpreter": {
   "hash": "1052e4fc98c5d90ef93eee4c728ef1cf7dcd9893fcc0a92f26eae9c740ab6027"
  },
  "kernelspec": {
   "display_name": "Python 3 (ipykernel)",
   "language": "python",
   "name": "python3"
  },
  "language_info": {
   "codemirror_mode": {
    "name": "ipython",
    "version": 3
   },
   "file_extension": ".py",
   "mimetype": "text/x-python",
   "name": "python",
   "nbconvert_exporter": "python",
   "pygments_lexer": "ipython3",
   "version": "3.8.12"
  }
 },
 "nbformat": 4,
 "nbformat_minor": 2
}
